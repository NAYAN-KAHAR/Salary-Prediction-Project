{
 "cells": [
  {
   "cell_type": "code",
   "execution_count": null,
   "id": "0e056cbe",
   "metadata": {},
   "outputs": [
    {
     "ename": "",
     "evalue": "",
     "output_type": "error",
     "traceback": [
      "\u001b[1;31mRunning cells with 'myenv (Python 3.10.12)' requires the ipykernel package.\n",
      "\u001b[1;31mInstall 'ipykernel' into the Python environment. \n",
      "\u001b[1;31mCommand: '\"/media/nayan/New Volume1/Data Science/streamlit app list/salary-prediction-app/myenv/bin/python\" -m pip install ipykernel -U --force-reinstall'"
     ]
    }
   ],
   "source": [
    "import pandas as pd\n",
    "import matplotlib.pyplot as plt\n",
    "import seaborn as sns\n",
    "from sklearn.model_selection import train_test_split\n",
    "from sklearn.preprocessing import OneHotEncoder\n",
    "from sklearn.compose import ColumnTransformer\n",
    "from sklearn.linear_model import LinearRegression\n",
    "from sklearn.pipeline import Pipeline\n",
    "from sklearn.metrics import mean_squared_error, r2_score"
   ]
  },
  {
   "cell_type": "code",
   "execution_count": null,
   "id": "a2407a39",
   "metadata": {},
   "outputs": [],
   "source": [
    "df = pd.read_csv('salary_prediction_data.csv')\n",
    "df.head()"
   ]
  },
  {
   "cell_type": "code",
   "execution_count": null,
   "id": "2c461234",
   "metadata": {},
   "outputs": [],
   "source": [
    "df.shape"
   ]
  },
  {
   "cell_type": "code",
   "execution_count": null,
   "id": "6bcd6e54",
   "metadata": {},
   "outputs": [],
   "source": [
    "df.isnull().sum()"
   ]
  },
  {
   "cell_type": "code",
   "execution_count": null,
   "id": "ee9a2305",
   "metadata": {},
   "outputs": [],
   "source": [
    "df.duplicated().sum().item()"
   ]
  },
  {
   "cell_type": "code",
   "execution_count": null,
   "id": "f7c89f08",
   "metadata": {},
   "outputs": [],
   "source": [
    "df.describe()"
   ]
  },
  {
   "cell_type": "code",
   "execution_count": null,
   "id": "e9916654",
   "metadata": {},
   "outputs": [],
   "source": [
    "df.info()"
   ]
  },
  {
   "cell_type": "code",
   "execution_count": null,
   "id": "ff04b832",
   "metadata": {},
   "outputs": [],
   "source": [
    "df[['Experience','Age','Salary']].corr()"
   ]
  },
  {
   "cell_type": "code",
   "execution_count": null,
   "id": "06a5c5d7",
   "metadata": {},
   "outputs": [],
   "source": [
    "df['Experience'].value_counts().head()"
   ]
  },
  {
   "cell_type": "code",
   "execution_count": null,
   "id": "6b4cfa57",
   "metadata": {},
   "outputs": [],
   "source": [
    "plt.figure(figsize=(10,3))\n",
    "df['Experience'].value_counts().plot(kind='bar')"
   ]
  },
  {
   "cell_type": "code",
   "execution_count": null,
   "id": "0bc51637",
   "metadata": {},
   "outputs": [],
   "source": [
    "df['Education'].value_counts()"
   ]
  },
  {
   "cell_type": "code",
   "execution_count": null,
   "id": "71efbfcc",
   "metadata": {},
   "outputs": [],
   "source": [
    "plt.figure(figsize=(5,2.5))\n",
    "df.groupby('Gender')['Salary'].mean().plot(kind='bar')"
   ]
  },
  {
   "cell_type": "code",
   "execution_count": null,
   "id": "48729785",
   "metadata": {},
   "outputs": [],
   "source": [
    "df['Age'].mean().item()"
   ]
  },
  {
   "cell_type": "code",
   "execution_count": null,
   "id": "57bd94b0",
   "metadata": {},
   "outputs": [],
   "source": [
    "df['Job_Title'].value_counts()"
   ]
  },
  {
   "cell_type": "code",
   "execution_count": null,
   "id": "38107d4b",
   "metadata": {},
   "outputs": [],
   "source": [
    "plt.figure(figsize=(5,2.5))\n",
    "df.groupby('Job_Title')['Salary'].mean().plot(kind='bar')"
   ]
  },
  {
   "cell_type": "code",
   "execution_count": null,
   "id": "725e10dc",
   "metadata": {},
   "outputs": [],
   "source": [
    "df.sample()"
   ]
  },
  {
   "cell_type": "code",
   "execution_count": null,
   "id": "eca6c24f",
   "metadata": {},
   "outputs": [],
   "source": [
    "df['Location'].value_counts()"
   ]
  },
  {
   "cell_type": "code",
   "execution_count": null,
   "id": "4ce47950",
   "metadata": {},
   "outputs": [],
   "source": [
    "df.info()"
   ]
  },
  {
   "cell_type": "code",
   "execution_count": null,
   "id": "2821f0c7",
   "metadata": {},
   "outputs": [],
   "source": [
    "df['Gender'].value_counts()"
   ]
  },
  {
   "cell_type": "code",
   "execution_count": null,
   "id": "39a85311",
   "metadata": {},
   "outputs": [],
   "source": [
    "plt.figure(figsize=(5,2.5))\n",
    "df['Age'].plot(kind='box')"
   ]
  },
  {
   "cell_type": "code",
   "execution_count": null,
   "id": "8b097a2c",
   "metadata": {},
   "outputs": [],
   "source": [
    "plt.figure(figsize=(5,2.5))\n",
    "df['Salary'].plot(kind='box')"
   ]
  },
  {
   "cell_type": "code",
   "execution_count": null,
   "id": "4b765dd8",
   "metadata": {},
   "outputs": [],
   "source": [
    "df['Salary'].max()"
   ]
  },
  {
   "cell_type": "code",
   "execution_count": null,
   "id": "6a451c98",
   "metadata": {},
   "outputs": [],
   "source": [
    "df[df['Salary'] > 150000]['Job_Title'].value_counts()"
   ]
  },
  {
   "cell_type": "code",
   "execution_count": null,
   "id": "702b7371",
   "metadata": {},
   "outputs": [],
   "source": [
    "df.sample()"
   ]
  },
  {
   "cell_type": "code",
   "execution_count": null,
   "id": "8f4ba548",
   "metadata": {},
   "outputs": [],
   "source": [
    "\n"
   ]
  },
  {
   "cell_type": "code",
   "execution_count": null,
   "id": "12ec38cb",
   "metadata": {},
   "outputs": [],
   "source": [
    "\n",
    "X = df.drop(\"Salary\", axis=1)\n",
    "y = df[\"Salary\"]\n"
   ]
  },
  {
   "cell_type": "code",
   "execution_count": null,
   "id": "444480e4",
   "metadata": {},
   "outputs": [],
   "source": [
    "\n",
    "categorical_cols = ['Education', 'Location', 'Job_Title', 'Gender']\n",
    "numeric_cols = ['Experience', 'Age']\n",
    "\n"
   ]
  },
  {
   "cell_type": "code",
   "execution_count": null,
   "id": "98ceab5d",
   "metadata": {},
   "outputs": [],
   "source": [
    "preprocessor = ColumnTransformer(\n",
    "    transformers=[\n",
    "        ('cat', OneHotEncoder(handle_unknown='ignore'), categorical_cols),\n",
    "    ],\n",
    "    remainder='passthrough'\n",
    ")\n",
    "\n"
   ]
  },
  {
   "cell_type": "code",
   "execution_count": null,
   "id": "e1528c6f",
   "metadata": {},
   "outputs": [],
   "source": [
    "model = Pipeline(steps=[\n",
    "    ('preprocessor', preprocessor),\n",
    "    ('regressor', LinearRegression())\n",
    "])\n",
    "\n",
    "''' A Pipeline is just a tool that connects all steps together, so you don’t have to do them separately. '''"
   ]
  },
  {
   "cell_type": "code",
   "execution_count": null,
   "id": "a5004b5a",
   "metadata": {},
   "outputs": [],
   "source": [
    "X_train, X_test, y_train, y_test = train_test_split(X, y, test_size=0.2, random_state=42)\n",
    "\n"
   ]
  },
  {
   "cell_type": "code",
   "execution_count": null,
   "id": "4d5ea5ce",
   "metadata": {},
   "outputs": [],
   "source": [
    "model.fit(X_train, y_train)\n"
   ]
  },
  {
   "cell_type": "code",
   "execution_count": null,
   "id": "1b39f77e",
   "metadata": {},
   "outputs": [],
   "source": [
    "# Step 8: Predict and evaluate\n",
    "y_pred = model.predict(X_test)\n",
    "accuracy = r2_score(y_test, y_pred)\n",
    "\n",
    "print(\"R2 Score:\", accuracy)\n",
    "print(\"MSE:\", mean_squared_error(y_test, y_pred))"
   ]
  },
  {
   "cell_type": "code",
   "execution_count": null,
   "id": "003a9cec",
   "metadata": {},
   "outputs": [],
   "source": [
    "def predict_salary(education, experience, location, job_title, age, gender):\n",
    "    # Step 1: Create a single-row DataFrame with your input\n",
    "    input_data = pd.DataFrame([{\n",
    "        'Education': education,\n",
    "        'Experience': experience,\n",
    "        'Location': location,\n",
    "        'Job_Title': job_title,\n",
    "        'Age': age,\n",
    "        'Gender': gender\n",
    "    }])\n",
    "\n",
    "    # Step 2: Use the trained model to predict salary\n",
    "    print(model.predict(input_data))\n",
    "    predicted_salary = model.predict(input_data)\n",
    "    \n",
    "\n",
    "    # Step 3: Print the result\n",
    "    # print(f\"💰 Predicted Salary: ${predicted_salary:,.2f}\")\n",
    "    return predicted_salary[0].item()"
   ]
  },
  {
   "cell_type": "code",
   "execution_count": null,
   "id": "8380c51b",
   "metadata": {},
   "outputs": [],
   "source": [
    "predict_salary(\n",
    "    education=\"Bachelor\",\n",
    "    experience=0,\n",
    "    location=\"Urban\",\n",
    "    job_title=\"Engineer\",\n",
    "    age=30,\n",
    "    gender=\"Male\"\n",
    ")\n"
   ]
  },
  {
   "cell_type": "code",
   "execution_count": null,
   "id": "5b2c02e9",
   "metadata": {},
   "outputs": [],
   "source": [
    "import pickle"
   ]
  },
  {
   "cell_type": "code",
   "execution_count": null,
   "id": "195b5dda",
   "metadata": {},
   "outputs": [],
   "source": [
    "# with open('prediction_model.pkl','wb') as f1:\n",
    "#     pickle.dump(model, f1)\n",
    "\n",
    "# with open('accuary_model.pkl','wb') as f2:\n",
    "#     pickle.dump(accuracy, f2)\n"
   ]
  }
 ],
 "metadata": {
  "kernelspec": {
   "display_name": "myenv",
   "language": "python",
   "name": "python3"
  },
  "language_info": {
   "codemirror_mode": {
    "name": "ipython",
    "version": 3
   },
   "file_extension": ".py",
   "mimetype": "text/x-python",
   "name": "python",
   "nbconvert_exporter": "python",
   "pygments_lexer": "ipython3",
   "version": "3.10.12"
  }
 },
 "nbformat": 4,
 "nbformat_minor": 5
}
